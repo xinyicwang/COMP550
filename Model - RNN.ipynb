{
 "cells": [
  {
   "cell_type": "code",
   "execution_count": 2,
   "metadata": {
    "colab": {
     "base_uri": "https://localhost:8080/",
     "height": 238
    },
    "colab_type": "code",
    "id": "4E6_5Vy5b9HM",
    "outputId": "2ca23a74-0dae-4ebd-c24a-10e9b5ca9ade"
   },
   "outputs": [],
   "source": [
    "import os\n",
    "import pprint\n",
    "import xml.etree.ElementTree as ET\n"
   ]
  },
  {
   "cell_type": "code",
   "execution_count": 3,
   "metadata": {
    "colab": {},
    "colab_type": "code",
    "id": "1Km2Frz8wtUV"
   },
   "outputs": [],
   "source": [
    "tree = ET.parse('smsCorpus_en_2015.03.09_all.xml')\n",
    "root = tree.getroot()\n",
    "with open('smsCorpus_en_2015.03.09_all.txt', 'w') as f:\n",
    "  f.write('TEXT\\n')\n",
    "for m in root.findall('message'):\n",
    "  TEXT = m.find('text').text\n",
    "  line = TEXT + '\\n'\n",
    "  with open('smsCorpus_en_2015.03.09_all.txt', 'a') as f:\n",
    "    f.write(line)"
   ]
  },
  {
   "cell_type": "code",
   "execution_count": 6,
   "metadata": {
    "colab": {},
    "colab_type": "code",
    "id": "5cM-pOnRhLB7"
   },
   "outputs": [
    {
     "name": "stderr",
     "output_type": "stream",
     "text": [
      "Using TensorFlow backend.\n"
     ]
    }
   ],
   "source": [
    "import tensorflow as tf\n",
    "from textgenrnn import textgenrnn"
   ]
  },
  {
   "cell_type": "code",
   "execution_count": 20,
   "metadata": {
    "colab": {
     "base_uri": "https://localhost:8080/",
     "height": 153
    },
    "colab_type": "code",
    "id": "jEONqdarcAWz",
    "outputId": "51068ac2-d57f-47a7-f2ae-7d677cf08a7d"
   },
   "outputs": [
    {
     "name": "stdout",
     "output_type": "stream",
     "text": [
      "SMS.ipynb\r\n",
      "gen_lstm.txt\r\n",
      "gen_rnn.txt\r\n",
      "gen_rnn_3000.txt\r\n",
      "previous_words_to_many_words_best_weights.hdf5\r\n",
      "previous_words_to_many_words_model.h5\r\n",
      "previous_words_to_many_words_objects.pickle\r\n",
      "sg_text_generation.py\r\n",
      "smsCorpus_en_2015.03.09_all.json\r\n",
      "smsCorpus_en_2015.03.09_all.txt\r\n",
      "smsCorpus_en_2015.03.09_all.xml\r\n",
      "textgenrnn_config.json\r\n",
      "textgenrnn_vocab.json\r\n",
      "textgenrnn_weights.hdf5\r\n"
     ]
    }
   ],
   "source": [
    "ls"
   ]
  },
  {
   "cell_type": "code",
   "execution_count": 21,
   "metadata": {},
   "outputs": [
    {
     "name": "stdout",
     "output_type": "stream",
     "text": [
      "2,999 texts collected.\n",
      "Training new model w/ 2-layer, 128-cell LSTMs\n",
      "Training on 48,364 word sequences.\n"
     ]
    },
    {
     "name": "stderr",
     "output_type": "stream",
     "text": [
      "/Users/apple/anaconda3/lib/python3.7/site-packages/tensorflow_core/python/framework/indexed_slices.py:424: UserWarning: Converting sparse IndexedSlices to a dense Tensor of unknown shape. This may consume a large amount of memory.\n",
      "  \"Converting sparse IndexedSlices to a dense Tensor of unknown shape. \"\n"
     ]
    },
    {
     "name": "stdout",
     "output_type": "stream",
     "text": [
      "Epoch 1/20\n",
      "377/377 [==============================] - 24s 62ms/step - loss: 4.7815\n",
      "####################\n",
      "Temperature: 0.2\n",
      "####################\n",
      "ll b free . . .\n",
      "\n",
      "ll b goin to sch . . .\n",
      "\n",
      "m not free . . .\n",
      "\n",
      "####################\n",
      "Temperature: 0.5\n",
      "####################\n",
      "ll b free . . .\n",
      "\n",
      "u going to sch ?\n",
      "\n",
      "s e canteen . . .\n",
      "\n",
      "####################\n",
      "Temperature: 1.0\n",
      "####################\n",
      "so r xin . . .\n",
      "\n",
      "can go out lei . . . where come make come back message person chen too . . hee later . u so late . i dun wan 2 sch send me 4844 shldn interestin i most now all niao niao ! later ?\n",
      "\n",
      "infra aiya postponed sheet with ur spine mac ! ? anythin cost into money den . . .\n",
      "\n",
      "Epoch 2/20\n",
      "377/377 [==============================] - 23s 60ms/step - loss: 3.9502\n",
      "####################\n",
      "Temperature: 0.2\n",
      "####################\n",
      "s ur sis ?\n",
      "\n",
      "m not going 2 . . .\n",
      "\n",
      "s ur paper ?\n",
      "\n",
      "####################\n",
      "Temperature: 0.5\n",
      "####################\n",
      "m goin liao . . .\n",
      "\n",
      "s life . . .\n",
      "\n",
      "s ur bro ?\n",
      "\n",
      "####################\n",
      "Temperature: 1.0\n",
      "####################\n",
      "are you ? shuhui will be free time any marks ?\n",
      "\n",
      "where are there and thing . friends . hee . . . actually i cant watch twins assignment . . .\n",
      "\n",
      "m free . . . but got chihuahua weiyi rite . . . hiya , wat time u going ? ? u come abt a bit 2 leh . . .\n",
      "\n",
      "Epoch 3/20\n",
      "377/377 [==============================] - 22s 58ms/step - loss: 3.4715\n",
      "####################\n",
      "Temperature: 0.2\n",
      "####################\n",
      "m not goin . . .\n",
      "\n",
      "ll b goin . . .\n",
      "\n",
      "ll b goin . . .\n",
      "\n",
      "####################\n",
      "Temperature: 0.5\n",
      "####################\n",
      "m goin to e nus sci to get it . . .\n",
      "\n",
      "wah , u wan 2 c me 2 get it but i tot u dun mind . . .\n",
      "\n",
      "ok . . . k la , dunno y u dun have to c how to do . . .\n",
      "\n",
      "####################\n",
      "Temperature: 1.0\n",
      "####################\n",
      "hmmm , try to u check e cond longer huh . . .\n",
      "\n",
      "huh . . . tt when u wanna go ?\n",
      "\n",
      "i wan to go round ? i got abt any lien on owe ah . . .\n",
      "\n",
      "Epoch 4/20\n",
      "377/377 [==============================] - 25s 67ms/step - loss: 3.0230\n",
      "####################\n",
      "Temperature: 0.2\n",
      "####################\n",
      "s my dear dear dear ?\n",
      "\n",
      "ok . . .\n",
      "\n",
      "hey . . . u r in ur hse ah . . .\n",
      "\n",
      "####################\n",
      "Temperature: 0.5\n",
      "####################\n",
      "ll b going to sch . . .\n",
      "\n",
      "ll b at 6 lor . . .\n",
      "\n",
      "gd luck 4 my first . . .\n",
      "\n",
      "####################\n",
      "Temperature: 1.0\n",
      "####################\n",
      "hmmm . . . . u always c yj to icq . .\n",
      "\n",
      "i go nus cups must lor , so not joining my dad .\n",
      "\n",
      "then ü come back also lah . . . we might be late meh ?\n",
      "\n",
      "Epoch 5/20\n",
      "377/377 [==============================] - 22s 58ms/step - loss: 2.5954\n",
      "####################\n",
      "Temperature: 0.2\n",
      "####################\n",
      "s my first choice . . .\n",
      "\n",
      "s my first choice . . .\n",
      "\n",
      "i am thinking of u . . .\n",
      "\n",
      "####################\n",
      "Temperature: 0.5\n",
      "####################\n",
      "s my first choice . . .\n",
      "\n",
      "m not goin . . .\n",
      "\n",
      "ok\n",
      "\n",
      "####################\n",
      "Temperature: 1.0\n",
      "####################\n",
      "tat den i si c c tmr , dunno whether u got go check e yahoo . tdy 7 try b4 i like not so willing 2 come n enjoy urself lor .\n",
      "\n",
      "mas . thanx a lot . . .\n",
      "\n",
      "hey . . . okie . . .\n",
      "\n",
      "Epoch 6/20\n",
      "377/377 [==============================] - 23s 61ms/step - loss: 2.2139\n",
      "####################\n",
      "Temperature: 0.2\n",
      "####################\n",
      "hey . . . u wana come ?\n",
      "\n",
      "m in e sneak tonite leh . . .\n",
      "\n",
      "hmmm . . . okie lor . . .\n",
      "\n",
      "####################\n",
      "Temperature: 0.5\n",
      "####################\n",
      "s diff to get frm her off . . .\n",
      "\n",
      "i will be late .\n",
      "\n",
      "s e same instructor later . . .\n",
      "\n",
      "####################\n",
      "Temperature: 1.0\n",
      "####################\n",
      "huh a lot of nice . . .\n",
      "\n",
      "they come ard 1 + , u still outside . wat ?\n",
      "\n",
      "nt leh lor , both of us only do leave da next week\n",
      "\n",
      "Epoch 7/20\n",
      "377/377 [==============================] - 24s 63ms/step - loss: 1.8915\n",
      "####################\n",
      "Temperature: 0.2\n",
      "####################\n",
      "m not goin too , haha . . .\n",
      "\n",
      "s my dear ?\n",
      "\n",
      "s my first choice . . .\n",
      "\n",
      "####################\n",
      "Temperature: 0.5\n",
      "####################\n",
      "s da decision ?\n",
      "\n",
      "hey xin . . . when u wana meet me ah . . .\n",
      "\n",
      "ok .\n",
      "\n",
      "####################\n",
      "Temperature: 1.0\n",
      "####################\n",
      "ü wake up already ?\n",
      "\n",
      "b 530 . bdae thanks .\n",
      "\n",
      "free on e izit . . . haha , she finishes up long ago . . . u reach home first . .\n",
      "\n",
      "Epoch 8/20\n",
      "377/377 [==============================] - 22s 58ms/step - loss: 1.6309\n",
      "####################\n",
      "Temperature: 0.2\n",
      "####################\n",
      "s my dear dear dear ?\n",
      "\n",
      "s my dear dear dear ?\n",
      "\n",
      "s my dear dear dear ?\n",
      "\n",
      "####################\n",
      "Temperature: 0.5\n",
      "####################\n",
      "s my dear dear dear ?\n",
      "\n",
      "ll go shop w u liao . . .\n",
      "\n",
      "ll b goin . . help me there ?\n",
      "\n",
      "####################\n",
      "Temperature: 1.0\n",
      "####################\n",
      "hey mei . . . u on ur right ?\n",
      "\n",
      "yup wait 4 me up one . . . i c first la . . . @ )\n",
      "\n",
      "ll try later . . : )\n",
      "\n",
      "Epoch 9/20\n",
      "377/377 [==============================] - 26s 69ms/step - loss: 1.4147\n",
      "####################\n",
      "Temperature: 0.2\n",
      "####################\n",
      "s ur studies going on ? ?\n",
      "\n",
      "i thk 50 shd be ok lah . . .\n",
      "\n",
      "m not goin . . . so sad . . .\n",
      "\n",
      "####################\n",
      "Temperature: 0.5\n",
      "####################\n",
      "hmmm . . . mayb late afternoon lor . . .\n",
      "\n",
      "how about your task now\n",
      "\n",
      "i thk 50 shd be ok he said plus minus 10 . . enjoyed dance blast was playin kb was good !\n",
      "\n",
      "####################\n",
      "Temperature: 1.0\n",
      "####################\n",
      "then we go take time run liao\n",
      "\n",
      "i use da bus 65 ma . . .\n",
      "\n",
      "dffff\n",
      "\n",
      "Epoch 10/20\n",
      "377/377 [==============================] - 25s 65ms/step - loss: 1.2381\n",
      "####################\n",
      "Temperature: 0.2\n",
      "####################\n",
      "s my dear ?\n",
      "\n",
      "m in nus sci . . . u wan to go somewhere near my hse den can fetch u oso . . .\n",
      "\n",
      "s e mock ? u wana watch twins effect nxt wk leh . . .\n",
      "\n",
      "####################\n",
      "Temperature: 0.5\n",
      "####################\n",
      "s ur add ?\n",
      "\n",
      "m in nus sci . . . u ?\n",
      "\n",
      "i anythin la . . . den mum and papa leh . . . so wat r u doing ?\n",
      "\n",
      "####################\n",
      "Temperature: 1.0\n",
      "####################\n",
      "s my dear ? had dinner at hotel ? save at le .\n",
      "\n",
      "hey darl . . . shld b e same time .\n",
      "\n",
      "wat time ü fetch me know . then u will be more . going down later . . . your darling . be dat hear when not goin to be ah . . .\n",
      "\n",
      "Epoch 11/20\n",
      "377/377 [==============================] - 26s 68ms/step - loss: 1.0993\n",
      "####################\n",
      "Temperature: 0.2\n",
      "####################\n",
      "hey . . . sorry . . . cant meet u oso . . .\n",
      "\n",
      "hey mei . . . u came 4 e talk today ? oh , e orientation izit muz sign up one ?\n",
      "\n",
      "hey , we are meeting 645 at airport terminal one to send xiang mei off\n",
      "\n",
      "####################\n",
      "Temperature: 0.5\n",
      "####################\n",
      "hey . . . gd luck k , enjoy urself a colour rite . . . aiya , but tis time u torture ur juniors , so not tt taxin la . . . gee . . .\n",
      "\n",
      "ok . . .\n",
      "\n",
      "hey , can we discuss cs2105 tonight ?\n",
      "\n",
      "####################\n",
      "Temperature: 1.0\n",
      "####################\n",
      "i ask them c how i go find u . . .\n",
      "\n",
      "hey yet . . . do u nd any computing knowledge b4hand ?\n",
      "\n",
      "msg me something too . . .\n",
      "\n",
      "Epoch 12/20\n",
      "377/377 [==============================] - 26s 68ms/step - loss: 0.9885\n",
      "####################\n",
      "Temperature: 0.2\n",
      "####################\n",
      "ll b goin . . help me tell jo . . . haha . . .\n",
      "\n",
      "m not sure too . . .\n",
      "\n",
      "m in e lazy mode today .\n",
      "\n",
      "####################\n",
      "Temperature: 0.5\n",
      "####################\n",
      "u reach home den let me noe lah . . .\n",
      "\n",
      "oh okie . . . den 6 plus lor . . .\n",
      "\n",
      "ok . .\n",
      "\n",
      "####################\n",
      "Temperature: 1.0\n",
      "####################\n",
      "thanx 4 sending me home . . .\n",
      "\n",
      "dude ! tune in to channel 5 now ! ! !\n",
      "\n",
      "s ok ?\n",
      "\n",
      "Epoch 13/20\n",
      "377/377 [==============================] - 24s 62ms/step - loss: 0.8990\n",
      "####################\n",
      "Temperature: 0.2\n",
      "####################\n",
      "s my first choice . . . dunno y i chose tt oso . . .\n",
      "\n",
      "s e gals who r laughing at me lor . . .\n",
      "\n",
      "s ur first wk of sch ? happenin ?\n",
      "\n",
      "####################\n",
      "Temperature: 0.5\n",
      "####################\n",
      "m going 4 lunch now wif my family then aft dat i go str 2 orchard lor .\n",
      "\n",
      "ok . . .\n",
      "\n",
      "m not goin 4 any camps . . . my faculty camp oso over liao . . .\n",
      "\n",
      "####################\n",
      "Temperature: 1.0\n",
      "####################\n",
      "s over liao . . .\n",
      "\n",
      "t waffle produce much tonight u ?\n",
      "\n",
      "wanna go out ?\n",
      "\n",
      "Epoch 14/20\n",
      "377/377 [==============================] - 24s 63ms/step - loss: 0.8320\n",
      "####################\n",
      "Temperature: 0.2\n",
      "####################\n",
      "s ur new year ? i jus came back yesterday . . .\n",
      "\n",
      "ll b at e corner lor , not e middle . . . so dun worry la . . . din c e aluminium one . . . mayb lor . . .\n",
      "\n",
      "s ur new year ? i jus came back yesterday . . .\n",
      "\n",
      "####################\n",
      "Temperature: 0.5\n",
      "####################\n",
      "hmmm . . . when r we goin to . . .\n",
      "\n",
      "ll b quite bored waitin lor , if not i go myself lor . . . or do u nd to take ? i just ask him very long . . .\n",
      "\n"
     ]
    },
    {
     "name": "stdout",
     "output_type": "stream",
     "text": [
      "i will be joining u all later after my meeting . .\n",
      "\n",
      "####################\n",
      "Temperature: 1.0\n",
      "####################\n",
      "be there at 1115pm .\n",
      "\n",
      "dun need\n",
      "\n",
      "thanx a lot !\n",
      "\n",
      "Epoch 15/20\n",
      "377/377 [==============================] - 23s 60ms/step - loss: 0.7804\n",
      "####################\n",
      "Temperature: 0.2\n",
      "####################\n",
      "s my dear ? i am leaving the ofc soon .\n",
      "\n",
      "ll b going 2 sch on fri quite early lor cos mys sis got paper in da morn : - )\n",
      "\n",
      "hey . . . sorry . . .\n",
      "\n",
      "####################\n",
      "Temperature: 0.5\n",
      "####################\n",
      "m coming home 4 dinner .\n",
      "\n",
      "i will reach the busstop 15 mins later . . hehe\n",
      "\n",
      "m in nus sci . . . u ?\n",
      "\n",
      "####################\n",
      "Temperature: 1.0\n",
      "####################\n",
      "hey pple . . . can meet durin movie . . . got drivin lesson today . . .\n",
      "\n",
      "ll be coz if e talk to station . . my cousin juz go c first . . .\n",
      "\n",
      "den can go mrt station lor .\n",
      "\n",
      "Epoch 16/20\n",
      "377/377 [==============================] - 23s 60ms/step - loss: 0.7389\n",
      "####################\n",
      "Temperature: 0.2\n",
      "####################\n",
      "i will be joining u all later after my meeting . .\n",
      "\n",
      "hmmm . . . dun have leh . . . y do u nd it . . . oh u came frm home , thgt u were in hall . cya . . .\n",
      "\n",
      "m going to be a bit late . . . cos forgot to take smethg . . .\n",
      "\n",
      "####################\n",
      "Temperature: 0.5\n",
      "####################\n",
      "i noe suntec one got doggie puzzle , but dunno if got chihuahua anot . . . 300 pieces quite ok lor . . .\n",
      "\n",
      "me now at my grandma house . u leh ? u going out ?\n",
      "\n",
      "s a kb lesson tonight\n",
      "\n",
      "####################\n",
      "Temperature: 1.0\n",
      "####################\n",
      "how come u all ? then i din go now lor . . . u tell him when i finish dinner . . .\n",
      "\n",
      "m hungry buy smth home . . .\n",
      "\n",
      "m thinking of u . ok lah , enjoy ur shopping n ur dinner later .\n",
      "\n",
      "Epoch 17/20\n",
      "377/377 [==============================] - 22s 59ms/step - loss: 0.7047\n",
      "####################\n",
      "Temperature: 0.2\n",
      "####################\n",
      "s ur new year ? i jus came back yesterday . . .\n",
      "\n",
      "s ur new year ? i jus came back yesterday . . .\n",
      "\n",
      "s ur new year ? i jus came back yesterday . . .\n",
      "\n",
      "####################\n",
      "Temperature: 0.5\n",
      "####################\n",
      "s my dear ? i am leaving the ofc soon .\n",
      "\n",
      "s my dear ? i am leaving the ofc soon .\n",
      "\n",
      "u go wear ur bikini n tan lah ! haha how come got to study for chem test ? gelek also lah ? k lah . . . cos i dun have her no . . .\n",
      "\n",
      "####################\n",
      "Temperature: 1.0\n",
      "####################\n",
      "dear see you\n",
      "\n",
      "so good can watch 2 do lor . i thk u out ur long ago already . later she dunno how 2 do i go eat then can . . .\n",
      "\n",
      "ll quit yet . . . bz . . . so today , den u goin to work to join her .\n",
      "\n",
      "Epoch 18/20\n",
      "377/377 [==============================] - 24s 64ms/step - loss: 0.6772\n",
      "####################\n",
      "Temperature: 0.2\n",
      "####################\n",
      "i will be joining u all later after my meeting . .\n",
      "\n",
      "s ur new year ? i jus came back yesterday . . .\n",
      "\n",
      "s ur new year ? i jus came back yesterday . . .\n",
      "\n",
      "####################\n",
      "Temperature: 0.5\n",
      "####################\n",
      "m going shopping now . got mc .\n",
      "\n",
      "ve booked the pilates and yoga lesson already . . . haha\n",
      "\n",
      "yup . i pick u ard 830 . call u when i leave .\n",
      "\n",
      "####################\n",
      "Temperature: 1.0\n",
      "####################\n",
      "love and book .\n",
      "\n",
      "will u b back . . . cos we goin to sch at 1230 . . .\n",
      "\n",
      "yup . she took very long lor , haha abt . . . my did have e msg n i have to keep some away from them den i give u eat . tell i u noe where r e meeting today ?\n",
      "\n",
      "Epoch 19/20\n",
      "377/377 [==============================] - 22s 58ms/step - loss: 0.6525\n",
      "####################\n",
      "Temperature: 0.2\n",
      "####################\n",
      "s ur new year ? i jus came back yesterday . . .\n",
      "\n",
      "s ur new year ? i jus came back yesterday . . .\n",
      "\n",
      "s ur new year ? i jus came back yesterday . . .\n",
      "\n",
      "####################\n",
      "Temperature: 0.5\n",
      "####################\n",
      "ok . . .\n",
      "\n",
      "s my dear ?\n",
      "\n",
      "ok . . .\n",
      "\n",
      "####################\n",
      "Temperature: 1.0\n",
      "####################\n",
      "on my way to sch oredi la . . .\n",
      "\n",
      "hey are we going for the intro pilates only ? or the kickboxing too ?\n",
      "\n",
      "how is ur haircut , nice ? so tmr u coming to school to study with me ah ?\n",
      "\n",
      "Epoch 20/20\n",
      "377/377 [==============================] - 23s 60ms/step - loss: 0.6305\n",
      "####################\n",
      "Temperature: 0.2\n",
      "####################\n",
      "i will be joining u all later after my meeting . .\n",
      "\n",
      "i oso dunno , or maybe can go walk walk near my house shopping mall like parkway .\n",
      "\n",
      "s ur new year ? i jus came back yesterday . . .\n",
      "\n",
      "####################\n",
      "Temperature: 0.5\n",
      "####################\n",
      "s ur new year ? i jus came back yesterday . . .\n",
      "\n",
      "u had lunch ? no work frm work ?\n",
      "\n",
      "ok . . .\n",
      "\n",
      "####################\n",
      "Temperature: 1.0\n",
      "####################\n",
      "m at pink table . . . u finish tut then come and look for me lor . . .\n",
      "\n",
      "ok . . .\n",
      "\n",
      "yup i thk they r his long . . . so did u get ur hall ?\n",
      "\n",
      "so i dun have to meet u at bishan instead as i goin to have lunch earlier . is that ok ?\n",
      "\n"
     ]
    }
   ],
   "source": [
    "textgen = textgenrnn()\n",
    "textgen.reset()\n",
    "textgen.train_from_file('smsCorpus_en_2015.03.09_all.txt', new_model=True, word_level=True, max_length=5, num_epochs=20, gen_epoch=5)\n",
    "textgen.generate()"
   ]
  },
  {
   "cell_type": "code",
   "execution_count": 22,
   "metadata": {
    "scrolled": false
   },
   "outputs": [
    {
     "name": "stderr",
     "output_type": "stream",
     "text": [
      "\r",
      "  0%|          | 0/50 [00:00<?, ?it/s]"
     ]
    },
    {
     "name": "stdout",
     "output_type": "stream",
     "text": [
      "s ur new year ? i jus came back yesterday . . .\n",
      "\n",
      "s my dear ? i am leaving the ofc soon .\n",
      "\n"
     ]
    },
    {
     "name": "stderr",
     "output_type": "stream",
     "text": [
      "\r",
      "  8%|▊         | 4/50 [00:00<00:01, 34.92it/s]"
     ]
    },
    {
     "name": "stdout",
     "output_type": "stream",
     "text": [
      "m not goin liao . . . meet on mon can ? anyway , happy bdae !\n",
      "\n",
      "s e one next to escalator . . .\n",
      "\n",
      "s ur new year ? i jus came back yesterday . . .\n",
      "\n",
      "i am coming\n",
      "\n"
     ]
    },
    {
     "name": "stderr",
     "output_type": "stream",
     "text": [
      "\r",
      " 16%|█▌        | 8/50 [00:00<00:01, 34.61it/s]"
     ]
    },
    {
     "name": "stdout",
     "output_type": "stream",
     "text": [
      "s e same instructor but diff car only . . . kk , cya after lesson . . .\n",
      "\n",
      "s ur new year ? i jus came back yesterday . . .\n",
      "\n"
     ]
    },
    {
     "name": "stderr",
     "output_type": "stream",
     "text": [
      "\r",
      " 22%|██▏       | 11/50 [00:00<00:01, 29.12it/s]"
     ]
    },
    {
     "name": "stdout",
     "output_type": "stream",
     "text": [
      "i think we meet ard 730 lor , cos erp end at 7 . how abt ding tai feng ? dat time u all didnt eat rite ?\n",
      "\n",
      "s ur new year ? i jus came back yesterday . . .\n",
      "\n",
      "s ur preparation ? gd luck for ur paper tmr ? and remember to sleep early k . : - )\n",
      "\n"
     ]
    },
    {
     "name": "stderr",
     "output_type": "stream",
     "text": [
      "\r",
      " 32%|███▏      | 16/50 [00:00<00:01, 32.21it/s]"
     ]
    },
    {
     "name": "stdout",
     "output_type": "stream",
     "text": [
      "s my first choice . . . dunno y i chose tt oso . . .\n",
      "\n",
      "s e 2nd or 3rd after max . . .\n",
      "\n",
      "u free tomorrow ? wanna go movies ?\n",
      "\n",
      "s e one next to escalator . . .\n",
      "\n",
      "s e 2nd or 3rd after max . . .\n",
      "\n"
     ]
    },
    {
     "name": "stderr",
     "output_type": "stream",
     "text": [
      "\r",
      " 40%|████      | 20/50 [00:00<00:00, 33.62it/s]"
     ]
    },
    {
     "name": "stdout",
     "output_type": "stream",
     "text": [
      "s ur army life . . . so which unit r u in ?\n",
      "\n",
      "s ur new year ? i jus came back yesterday . . .\n",
      "\n",
      "s my dear ? i am leaving the ofc soon .\n",
      "\n",
      "s ur new year ? i jus came back yesterday . . .\n",
      "\n"
     ]
    },
    {
     "name": "stderr",
     "output_type": "stream",
     "text": [
      "\r",
      " 46%|████▌     | 23/50 [00:00<00:00, 32.00it/s]"
     ]
    },
    {
     "name": "stdout",
     "output_type": "stream",
     "text": [
      "s no bio lect later , can go bk liao . . .\n",
      "\n",
      "s e exit on ur right when u come out frm e control . . . so 7 ah , dun b late . . .\n",
      "\n",
      "s ur new year ? i jus came back yesterday . . .\n",
      "\n",
      "ok . . .\n",
      "\n"
     ]
    },
    {
     "name": "stderr",
     "output_type": "stream",
     "text": [
      "\r",
      " 54%|█████▍    | 27/50 [00:00<00:00, 33.11it/s]"
     ]
    },
    {
     "name": "stdout",
     "output_type": "stream",
     "text": [
      "m not goin liao . . . meet on mon can ? anyway , happy bdae !\n",
      "\n",
      "s ur new year ? i jus came back yesterday . . .\n",
      "\n",
      "m not goin liao . . . gota go . . . meet up again k . . .\n",
      "\n"
     ]
    },
    {
     "name": "stderr",
     "output_type": "stream",
     "text": [
      "\r",
      " 62%|██████▏   | 31/50 [00:00<00:00, 34.90it/s]"
     ]
    },
    {
     "name": "stdout",
     "output_type": "stream",
     "text": [
      "s ur new year ? i jus came back yesterday . . .\n",
      "\n",
      "i just transfered 425 to you\n",
      "\n",
      "s ur new year ? i jus came back yesterday . . .\n",
      "\n",
      "s ur new year ? i jus came back yesterday . . .\n",
      "\n"
     ]
    },
    {
     "name": "stderr",
     "output_type": "stream",
     "text": [
      "\r",
      " 70%|███████   | 35/50 [00:01<00:00, 34.06it/s]"
     ]
    },
    {
     "name": "stdout",
     "output_type": "stream",
     "text": [
      "m not goin liao . . . gota go . . . meet up again k . . .\n",
      "\n",
      "s my dear ?\n",
      "\n",
      "s e same instructor but diff car only . . . kk , cya after lesson . . .\n",
      "\n",
      "s ur new year ? i jus came back yesterday . . .\n",
      "\n"
     ]
    },
    {
     "name": "stderr",
     "output_type": "stream",
     "text": [
      "\r",
      " 78%|███████▊  | 39/50 [00:01<00:00, 35.04it/s]"
     ]
    },
    {
     "name": "stdout",
     "output_type": "stream",
     "text": [
      "m not goin liao . . . gota go . . . meet up again k . . .\n",
      "\n",
      "s my dear ? i am leaving the ofc soon .\n",
      "\n",
      "s e one next to escalator . . .\n",
      "\n",
      "s ur new year ? i jus came back yesterday . . .\n",
      "\n"
     ]
    },
    {
     "name": "stderr",
     "output_type": "stream",
     "text": [
      "\r",
      " 86%|████████▌ | 43/50 [00:01<00:00, 35.02it/s]"
     ]
    },
    {
     "name": "stdout",
     "output_type": "stream",
     "text": [
      "s ur new year ? i jus came back yesterday . . .\n",
      "\n",
      "m not goin liao . . . gota go . . . meet up again k . . .\n",
      "\n",
      "s my dear ? i am leaving the ofc soon .\n",
      "\n",
      "s ur new year ? i jus came back yesterday . . .\n",
      "\n",
      "m not goin liao . . . gota go . . . meet up again k . . .\n",
      "\n",
      "hey . . . sorry . . . cant meet ur liao . . . gota go . . . meet up again k . . .\n",
      "\n",
      "s my dear ?\n",
      "\n"
     ]
    },
    {
     "name": "stderr",
     "output_type": "stream",
     "text": [
      "100%|██████████| 50/50 [00:01<00:00, 34.38it/s]"
     ]
    },
    {
     "name": "stdout",
     "output_type": "stream",
     "text": [
      "s e best choice den we juz have to take it . . .\n",
      "\n",
      "s ur new year ? i jus came back yesterday . . .\n",
      "\n",
      "s e best choice den we juz have to take it . . .\n",
      "\n",
      "s my dear ?\n",
      "\n"
     ]
    },
    {
     "name": "stderr",
     "output_type": "stream",
     "text": [
      "\n"
     ]
    }
   ],
   "source": [
    "textgen.generate(50, temperature=0.2)"
   ]
  },
  {
   "cell_type": "code",
   "execution_count": 23,
   "metadata": {
    "colab": {},
    "colab_type": "code",
    "id": "nsEK-b3DcAfC",
    "scrolled": false
   },
   "outputs": [
    {
     "name": "stderr",
     "output_type": "stream",
     "text": [
      " 10%|█         | 5/50 [00:00<00:00, 47.21it/s]"
     ]
    },
    {
     "name": "stdout",
     "output_type": "stream",
     "text": [
      "s a guy , wans to noe more abt it lor . . . haha , dunno oso . . .\n",
      "\n",
      "wat time u coming to school ?\n",
      "\n",
      "s ur new year ? i jus came back yesterday . . .\n",
      "\n",
      "s ur dental appt ?\n",
      "\n",
      "s my dear ?\n",
      "\n"
     ]
    },
    {
     "name": "stderr",
     "output_type": "stream",
     "text": [
      "\r",
      " 16%|█▌        | 8/50 [00:00<00:01, 39.48it/s]"
     ]
    },
    {
     "name": "stdout",
     "output_type": "stream",
     "text": [
      "s not back yet , we might have to go ourselves , paiseh . . .\n",
      "\n",
      "i dunno they close oredi not . . . ü v ma fan . . .\n",
      "\n",
      "dunno lei . . . i v lazy . . . got no movie to watch oredi . . .\n",
      "\n",
      "s ur posting . . .\n",
      "\n"
     ]
    },
    {
     "name": "stderr",
     "output_type": "stream",
     "text": [
      "\r",
      " 22%|██▏       | 11/50 [00:00<00:01, 33.62it/s]"
     ]
    },
    {
     "name": "stdout",
     "output_type": "stream",
     "text": [
      "ll b goin . . help me tell jo . . . cos i dun have her no . . .\n",
      "\n",
      "oh . . . lk tt ah . . . den we shld had went today too . . . gee , dunno my swimmin costume still can fit anot . . .\n",
      "\n"
     ]
    },
    {
     "name": "stderr",
     "output_type": "stream",
     "text": [
      "\r",
      " 32%|███▏      | 16/50 [00:00<00:00, 34.43it/s]"
     ]
    },
    {
     "name": "stdout",
     "output_type": "stream",
     "text": [
      "ok . . .\n",
      "\n",
      "m going 4 lunch now wif my family then aft dat i go str 2 orchard lor .\n",
      "\n",
      "m in da canteen now .\n",
      "\n",
      "m in school now already . . .\n",
      "\n",
      "m goin . . . but mine is incomplete lor cos i din go last wk too . . . i nd to copy frm my fren first . . .\n",
      "\n",
      "huh . . . how r u over there . . .\n",
      "\n",
      "s e 2nd or 3rd after max . . .\n",
      "\n",
      "u reaching serangoon ?\n",
      "\n"
     ]
    },
    {
     "name": "stderr",
     "output_type": "stream",
     "text": [
      " 50%|█████     | 25/50 [00:00<00:00, 36.11it/s]"
     ]
    },
    {
     "name": "stdout",
     "output_type": "stream",
     "text": [
      "hey . . . how come u rent out ur hse again ah . . .\n",
      "\n",
      "wat time u b done ?\n",
      "\n",
      "s e best choice den we juz have to take it . . .\n",
      "\n",
      "s ur postin ?\n",
      "\n",
      "s e exit on ur right when u come out frm e control . . . so 7 ah , dun b late . . .\n",
      "\n",
      "s e plan . . . wat time is ur tuition . . .\n",
      "\n",
      "hey pink . . . u got da msg ?\n",
      "\n"
     ]
    },
    {
     "name": "stderr",
     "output_type": "stream",
     "text": [
      " 68%|██████▊   | 34/50 [00:00<00:00, 38.69it/s]"
     ]
    },
    {
     "name": "stdout",
     "output_type": "stream",
     "text": [
      "ya . . . she wans . . . but now 630 oredi . . . got a lot of things to take care of here .\n",
      "\n",
      "s e 2nd or 3rd after max . . .\n",
      "\n",
      "m going to be a bit late . .\n",
      "\n",
      "ll b quite late . . . gee . . .\n",
      "\n",
      "i good . . .\n",
      "\n",
      "okie . . . no prob . . .\n",
      "\n",
      "hey . . . are you going to quit soon ? xuhui and i working till end of the month\n",
      "\n",
      "s ur email ?\n",
      "\n",
      "okie . . .\n",
      "\n",
      "ok . . .\n",
      "\n"
     ]
    },
    {
     "name": "stderr",
     "output_type": "stream",
     "text": [
      "\r",
      " 76%|███████▌  | 38/50 [00:01<00:00, 38.12it/s]"
     ]
    },
    {
     "name": "stdout",
     "output_type": "stream",
     "text": [
      "ll b goin . . help me tell jo . . . cos i dun have her no . . .\n",
      "\n",
      "s a card on da present lei . . . how ? ü all want 2 write smth or sign on it ?\n",
      "\n",
      "wat u doing ? having ur dinner ?\n",
      "\n",
      "s a kb lesson tonight\n",
      "\n",
      "s no dates available 4 dec oso . . .\n",
      "\n",
      "ll b goin . . help me tell jo . . . cos i dun have her no . . .\n",
      "\n"
     ]
    },
    {
     "name": "stderr",
     "output_type": "stream",
     "text": [
      "\r",
      " 86%|████████▌ | 43/50 [00:01<00:00, 39.88it/s]"
     ]
    },
    {
     "name": "stdout",
     "output_type": "stream",
     "text": [
      "u wan me call ur house or phone ?\n",
      "\n"
     ]
    },
    {
     "name": "stderr",
     "output_type": "stream",
     "text": [
      "\r",
      " 96%|█████████▌| 48/50 [00:01<00:00, 41.27it/s]"
     ]
    },
    {
     "name": "stdout",
     "output_type": "stream",
     "text": [
      "m not goin too , got tests nxt wk oso , my tests is nvr ending lor since sept , haiz . okie , jia you !\n",
      "\n",
      "s ok .\n",
      "\n",
      "i go bathe first k .\n",
      "\n",
      "m not going . . i asked ben to inform ur already\n",
      "\n",
      "s a kb lesson tonight\n",
      "\n",
      "but i juz remembered i gotta bathe my dog today . .\n",
      "\n"
     ]
    },
    {
     "name": "stderr",
     "output_type": "stream",
     "text": [
      "\r",
      "100%|██████████| 50/50 [00:01<00:00, 37.22it/s]"
     ]
    },
    {
     "name": "stdout",
     "output_type": "stream",
     "text": [
      "hey . . . gd luck k , a bit late la , but juz woke up . . . hey so later eng at e same class room rite . . . cya . . .\n",
      "\n"
     ]
    },
    {
     "name": "stderr",
     "output_type": "stream",
     "text": [
      "\n"
     ]
    }
   ],
   "source": [
    "textgen.generate(50, temperature=0.5)"
   ]
  },
  {
   "cell_type": "code",
   "execution_count": 24,
   "metadata": {
    "scrolled": false
   },
   "outputs": [
    {
     "name": "stderr",
     "output_type": "stream",
     "text": [
      "\r",
      "  0%|          | 0/50 [00:00<?, ?it/s]"
     ]
    },
    {
     "name": "stdout",
     "output_type": "stream",
     "text": [
      "wat u doing my dear ? cutting ur hair now ?\n",
      "\n",
      "u reaching serangoon ?\n",
      "\n"
     ]
    },
    {
     "name": "stderr",
     "output_type": "stream",
     "text": [
      "\r",
      "  8%|▊         | 4/50 [00:00<00:01, 31.30it/s]"
     ]
    },
    {
     "name": "stdout",
     "output_type": "stream",
     "text": [
      "ll b goin casual lor . . . u workin dinner ?\n",
      "\n",
      "ya , my tai tai life gona end in a month time . . . sob . . . old bird ? haha . . . den wat u doing ? having ur dinner ?\n",
      "\n",
      "so u come or not in school aft i v nice ? i am going for making the sleeping for the doesnt world . in e sending for lunch liao . . hee\n",
      "\n",
      "wat u doing ? now a bit free already . . .\n",
      "\n"
     ]
    },
    {
     "name": "stderr",
     "output_type": "stream",
     "text": [
      "\r",
      " 14%|█▍        | 7/50 [00:00<00:01, 27.55it/s]"
     ]
    },
    {
     "name": "stdout",
     "output_type": "stream",
     "text": [
      "we are supposed to meet to discuss abt our trip . . . thought xuhui told you ? free for ur dinner ?\n",
      "\n",
      "s ur nxt test date ?\n",
      "\n",
      "hmmm . . . green ? so wat does it mean . . . .\n",
      "\n",
      "i tot u outside cos darren say u come shopping lor . i go change now , will b a long queue . . .\n",
      "\n"
     ]
    },
    {
     "name": "stderr",
     "output_type": "stream",
     "text": [
      "\r",
      " 22%|██▏       | 11/50 [00:00<00:01, 27.71it/s]"
     ]
    },
    {
     "name": "stdout",
     "output_type": "stream",
     "text": [
      "my supervisor find 4 me one lor i thk his students . i havent ask her yet . tell u aft i ask her .\n",
      "\n",
      "sorry , i made a mistake , ef - 2000 is typhoon .\n",
      "\n",
      "up to ü . . .\n",
      "\n"
     ]
    },
    {
     "name": "stderr",
     "output_type": "stream",
     "text": [
      "\r",
      " 28%|██▊       | 14/50 [00:00<00:01, 28.10it/s]"
     ]
    },
    {
     "name": "stdout",
     "output_type": "stream",
     "text": [
      "coming over rite now , my sis my sis will b quite oso . . . fetch me together w jue . . . i surf net in sch . . .\n",
      "\n",
      "aiyah sorry lor . . . i dun seen to have lost any weight . . . gee . . . oh , e qet is on wed izit . . .\n",
      "\n",
      "s on dollar averagin pants for u hee . .\n",
      "\n"
     ]
    },
    {
     "name": "stderr",
     "output_type": "stream",
     "text": [
      "\r",
      " 34%|███▍      | 17/50 [00:00<00:01, 28.40it/s]"
     ]
    },
    {
     "name": "stdout",
     "output_type": "stream",
     "text": [
      "eh leh . . . jos ask miwa ?\n",
      "\n",
      "ok . but i finish at 6 .\n",
      "\n",
      "haha okay . . . today weekend leh . . .\n",
      "\n"
     ]
    },
    {
     "name": "stderr",
     "output_type": "stream",
     "text": [
      "\r",
      " 40%|████      | 20/50 [00:00<00:01, 27.70it/s]"
     ]
    },
    {
     "name": "stdout",
     "output_type": "stream",
     "text": [
      "think u having e post - attach syndrome ( like me hahh ) . . relax lah . . just enjoy e feeling of having somebody dote on u n reciprocate e feeling if u can . .\n",
      "\n",
      "take ang pow n eat lor . e 1 said go walk considering .\n",
      "\n",
      "ok before i need . . can ü . . .\n",
      "\n"
     ]
    },
    {
     "name": "stderr",
     "output_type": "stream",
     "text": [
      "\r",
      " 46%|████▌     | 23/50 [00:00<00:00, 27.37it/s]"
     ]
    },
    {
     "name": "stdout",
     "output_type": "stream",
     "text": [
      "bring tissue paper out but i got lesson at 4 lei n i was thinkin of going to sch earlier n i tot of parkin at kent vale . . .\n",
      "\n",
      "s life . e lesson is there lor . .\n",
      "\n",
      "where are you ?\n",
      "\n",
      "waiting 4 my tv show 2 start lor . . . u more impt mah . . .\n",
      "\n"
     ]
    },
    {
     "name": "stderr",
     "output_type": "stream",
     "text": [
      "\r",
      " 56%|█████▌    | 28/50 [00:00<00:00, 30.31it/s]"
     ]
    },
    {
     "name": "stdout",
     "output_type": "stream",
     "text": [
      "hey , will u be in school tomolo ? i get the notes from u\n",
      "\n",
      "get one of u . . . so wat r u doing ?\n",
      "\n",
      "ok i reach in 20 mins .\n",
      "\n",
      "m not goin liao . . . gota lar . . . call me k la . . .\n",
      "\n"
     ]
    },
    {
     "name": "stderr",
     "output_type": "stream",
     "text": [
      "\r",
      " 66%|██████▌   | 33/50 [00:01<00:00, 33.38it/s]"
     ]
    },
    {
     "name": "stdout",
     "output_type": "stream",
     "text": [
      "oh , when u noe how , e flash free to print . . .\n",
      "\n",
      "hi . . . testing mtk\n",
      "\n",
      "then u going ikea str aft dat ?\n",
      "\n",
      "ok . call me k . . .\n",
      "\n"
     ]
    },
    {
     "name": "stderr",
     "output_type": "stream",
     "text": [
      "\r",
      " 74%|███████▍  | 37/50 [00:01<00:00, 30.04it/s]"
     ]
    },
    {
     "name": "stdout",
     "output_type": "stream",
     "text": [
      "s my first choice . . . hmmm , u workin today izit . . . in our tutors not gd lor , felt bad , nd some time slow change , quite bz . . . today free . . .\n",
      "\n",
      "den wat time ü dun wan 2 buy help me together .\n",
      "\n",
      "nothing , smsing u n xy lor . sorry lor walking back to place liao . .\n",
      "\n"
     ]
    },
    {
     "name": "stderr",
     "output_type": "stream",
     "text": [
      "\r",
      " 86%|████████▌ | 43/50 [00:01<00:00, 35.18it/s]"
     ]
    },
    {
     "name": "stdout",
     "output_type": "stream",
     "text": [
      "choose a colour . . . just some silly test la . . .\n",
      "\n",
      "where are you ?\n",
      "\n",
      "nitez\n",
      "\n",
      "m wearing shorts . . .\n",
      "\n",
      "ard 8 lor . . . u w ur msg come u ?\n",
      "\n",
      "eating until i no see 2 u .\n",
      "\n",
      "izit . . . how come ard after lor . . .\n",
      "\n"
     ]
    },
    {
     "name": "stderr",
     "output_type": "stream",
     "text": [
      "\r",
      " 96%|█████████▌| 48/50 [00:01<00:00, 37.68it/s]"
     ]
    },
    {
     "name": "stdout",
     "output_type": "stream",
     "text": [
      "mum got wan 2 watch today la . . . gee . . .\n",
      "\n",
      "hey guys , be reminded tat we meet 1030 at library\n",
      "\n",
      "this bro type me\n",
      "\n",
      "den u go tell ghenglai movie . . .\n",
      "\n"
     ]
    },
    {
     "name": "stderr",
     "output_type": "stream",
     "text": [
      "\r",
      "100%|██████████| 50/50 [00:01<00:00, 33.07it/s]"
     ]
    },
    {
     "name": "stdout",
     "output_type": "stream",
     "text": [
      "can never ask if e christmas n software my dad ask da ge mah u ?\n",
      "\n",
      "do already ? dont i know u leh .\n",
      "\n"
     ]
    },
    {
     "name": "stderr",
     "output_type": "stream",
     "text": [
      "\n"
     ]
    }
   ],
   "source": [
    "textgen.generate(50, temperature=1.0)"
   ]
  },
  {
   "cell_type": "code",
   "execution_count": 29,
   "metadata": {},
   "outputs": [
    {
     "ename": "IndexError",
     "evalue": "list index out of range",
     "output_type": "error",
     "traceback": [
      "\u001b[0;31m---------------------------------------------------------------------------\u001b[0m",
      "\u001b[0;31mIndexError\u001b[0m                                Traceback (most recent call last)",
      "\u001b[0;32m<ipython-input-29-a9833c729dcb>\u001b[0m in \u001b[0;36m<module>\u001b[0;34m\u001b[0m\n\u001b[1;32m      1\u001b[0m \u001b[0mtextgen\u001b[0m \u001b[0;34m=\u001b[0m \u001b[0mtextgenrnn\u001b[0m\u001b[0;34m(\u001b[0m\u001b[0;34m)\u001b[0m\u001b[0;34m\u001b[0m\u001b[0;34m\u001b[0m\u001b[0m\n\u001b[1;32m      2\u001b[0m \u001b[0mtextgen\u001b[0m\u001b[0;34m.\u001b[0m\u001b[0mreset\u001b[0m\u001b[0;34m(\u001b[0m\u001b[0;34m)\u001b[0m\u001b[0;34m\u001b[0m\u001b[0;34m\u001b[0m\u001b[0m\n\u001b[0;32m----> 3\u001b[0;31m \u001b[0mtextgen\u001b[0m\u001b[0;34m.\u001b[0m\u001b[0mtrain_from_file\u001b[0m\u001b[0;34m(\u001b[0m\u001b[0;34m'smsCorpus_en_2015.03.09_all.txt'\u001b[0m\u001b[0;34m,\u001b[0m \u001b[0mnew_model\u001b[0m\u001b[0;34m=\u001b[0m\u001b[0;32mTrue\u001b[0m\u001b[0;34m,\u001b[0m \u001b[0mmax_length\u001b[0m\u001b[0;34m=\u001b[0m\u001b[0;36m5\u001b[0m\u001b[0;34m,\u001b[0m \u001b[0mnum_epochs\u001b[0m\u001b[0;34m=\u001b[0m\u001b[0;36m20\u001b[0m\u001b[0;34m,\u001b[0m \u001b[0mgen_epoch\u001b[0m\u001b[0;34m=\u001b[0m\u001b[0;36m5\u001b[0m\u001b[0;34m,\u001b[0m \u001b[0mword_level\u001b[0m\u001b[0;34m=\u001b[0m\u001b[0;32mTrue\u001b[0m\u001b[0;34m,\u001b[0m \u001b[0mcontext\u001b[0m\u001b[0;34m=\u001b[0m\u001b[0;32mTrue\u001b[0m\u001b[0;34m)\u001b[0m\u001b[0;34m\u001b[0m\u001b[0;34m\u001b[0m\u001b[0m\n\u001b[0m",
      "\u001b[0;32m~/anaconda3/lib/python3.7/site-packages/textgenrnn/textgenrnn.py\u001b[0m in \u001b[0;36mtrain_from_file\u001b[0;34m(self, file_path, header, delim, new_model, context, is_csv, **kwargs)\u001b[0m\n\u001b[1;32m    317\u001b[0m         \u001b[0;32mif\u001b[0m \u001b[0mcontext\u001b[0m\u001b[0;34m:\u001b[0m\u001b[0;34m\u001b[0m\u001b[0;34m\u001b[0m\u001b[0m\n\u001b[1;32m    318\u001b[0m             texts, context_labels = textgenrnn_texts_from_file_context(\n\u001b[0;32m--> 319\u001b[0;31m                 file_path)\n\u001b[0m\u001b[1;32m    320\u001b[0m         \u001b[0;32melse\u001b[0m\u001b[0;34m:\u001b[0m\u001b[0;34m\u001b[0m\u001b[0;34m\u001b[0m\u001b[0m\n\u001b[1;32m    321\u001b[0m             texts = textgenrnn_texts_from_file(file_path, header,\n",
      "\u001b[0;32m~/anaconda3/lib/python3.7/site-packages/textgenrnn/utils.py\u001b[0m in \u001b[0;36mtextgenrnn_texts_from_file_context\u001b[0;34m(file_path, header)\u001b[0m\n\u001b[1;32m    211\u001b[0m         \u001b[0;32mfor\u001b[0m \u001b[0mrow\u001b[0m \u001b[0;32min\u001b[0m \u001b[0mreader\u001b[0m\u001b[0;34m:\u001b[0m\u001b[0;34m\u001b[0m\u001b[0;34m\u001b[0m\u001b[0m\n\u001b[1;32m    212\u001b[0m             \u001b[0mtexts\u001b[0m\u001b[0;34m.\u001b[0m\u001b[0mappend\u001b[0m\u001b[0;34m(\u001b[0m\u001b[0mrow\u001b[0m\u001b[0;34m[\u001b[0m\u001b[0;36m0\u001b[0m\u001b[0;34m]\u001b[0m\u001b[0;34m)\u001b[0m\u001b[0;34m\u001b[0m\u001b[0;34m\u001b[0m\u001b[0m\n\u001b[0;32m--> 213\u001b[0;31m             \u001b[0mcontext_labels\u001b[0m\u001b[0;34m.\u001b[0m\u001b[0mappend\u001b[0m\u001b[0;34m(\u001b[0m\u001b[0mrow\u001b[0m\u001b[0;34m[\u001b[0m\u001b[0;36m1\u001b[0m\u001b[0;34m]\u001b[0m\u001b[0;34m)\u001b[0m\u001b[0;34m\u001b[0m\u001b[0;34m\u001b[0m\u001b[0m\n\u001b[0m\u001b[1;32m    214\u001b[0m \u001b[0;34m\u001b[0m\u001b[0m\n\u001b[1;32m    215\u001b[0m     \u001b[0;32mreturn\u001b[0m \u001b[0;34m(\u001b[0m\u001b[0mtexts\u001b[0m\u001b[0;34m,\u001b[0m \u001b[0mcontext_labels\u001b[0m\u001b[0;34m)\u001b[0m\u001b[0;34m\u001b[0m\u001b[0;34m\u001b[0m\u001b[0m\n",
      "\u001b[0;31mIndexError\u001b[0m: list index out of range"
     ]
    }
   ],
   "source": [
    "textgen = textgenrnn()\n",
    "textgen.reset()\n",
    "textgen.train_from_file('smsCorpus_en_2015.03.09_all.txt', new_model=True, max_length=5, num_epochs=20, gen_epoch=5, word_level=True, context=True)"
   ]
  },
  {
   "cell_type": "code",
   "execution_count": 26,
   "metadata": {},
   "outputs": [
    {
     "name": "stderr",
     "output_type": "stream",
     "text": [
      "  2%|▏         | 1/50 [00:00<00:26,  1.87it/s]"
     ]
    },
    {
     "name": "stdout",
     "output_type": "stream",
     "text": [
      "[PS4] [H] 100 Month 8 - 20 Trip [W] Paypal\n",
      "\n"
     ]
    },
    {
     "name": "stderr",
     "output_type": "stream",
     "text": [
      "\r",
      "  4%|▍         | 2/50 [00:02<00:50,  1.05s/it]"
     ]
    },
    {
     "name": "stdout",
     "output_type": "stream",
     "text": [
      "The start of the state of the starter of the most and then the first time i do this about the state of the state of the state of the state of the state of a stranger is a fan in the game of the most poster and I have a stranger and I was a big thing that I was a week and I have a strange to my favo\n",
      "\n"
     ]
    },
    {
     "name": "stderr",
     "output_type": "stream",
     "text": [
      "\r",
      "  6%|▌         | 3/50 [00:03<00:50,  1.06s/it]"
     ]
    },
    {
     "name": "stdout",
     "output_type": "stream",
     "text": [
      "The shot of the state of the same time to the start in the first time in the same time to the state of the past and it was a few years ago today.\n",
      "\n"
     ]
    },
    {
     "ename": "KeyboardInterrupt",
     "evalue": "",
     "output_type": "error",
     "traceback": [
      "\u001b[0;31m---------------------------------------------------------------------------\u001b[0m",
      "\u001b[0;31mKeyboardInterrupt\u001b[0m                         Traceback (most recent call last)",
      "\u001b[0;32m<ipython-input-26-5523da125014>\u001b[0m in \u001b[0;36m<module>\u001b[0;34m\u001b[0m\n\u001b[0;32m----> 1\u001b[0;31m \u001b[0mtextgen\u001b[0m\u001b[0;34m.\u001b[0m\u001b[0mgenerate\u001b[0m\u001b[0;34m(\u001b[0m\u001b[0;36m50\u001b[0m\u001b[0;34m,\u001b[0m \u001b[0mtemperature\u001b[0m\u001b[0;34m=\u001b[0m\u001b[0;36m0.2\u001b[0m\u001b[0;34m)\u001b[0m\u001b[0;34m\u001b[0m\u001b[0;34m\u001b[0m\u001b[0m\n\u001b[0m",
      "\u001b[0;32m~/anaconda3/lib/python3.7/site-packages/textgenrnn/textgenrnn.py\u001b[0m in \u001b[0;36mgenerate\u001b[0;34m(self, n, return_as_list, prefix, temperature, max_gen_length, interactive, top_n, progress)\u001b[0m\n\u001b[1;32m     87\u001b[0m                                            \u001b[0minteractive\u001b[0m\u001b[0;34m,\u001b[0m\u001b[0;34m\u001b[0m\u001b[0;34m\u001b[0m\u001b[0m\n\u001b[1;32m     88\u001b[0m                                            \u001b[0mtop_n\u001b[0m\u001b[0;34m,\u001b[0m\u001b[0;34m\u001b[0m\u001b[0;34m\u001b[0m\u001b[0m\n\u001b[0;32m---> 89\u001b[0;31m                                            prefix)\n\u001b[0m\u001b[1;32m     90\u001b[0m             \u001b[0;32mif\u001b[0m \u001b[0;32mnot\u001b[0m \u001b[0mreturn_as_list\u001b[0m\u001b[0;34m:\u001b[0m\u001b[0;34m\u001b[0m\u001b[0;34m\u001b[0m\u001b[0m\n\u001b[1;32m     91\u001b[0m                 \u001b[0mprint\u001b[0m\u001b[0;34m(\u001b[0m\u001b[0;34m\"{}\\n\"\u001b[0m\u001b[0;34m.\u001b[0m\u001b[0mformat\u001b[0m\u001b[0;34m(\u001b[0m\u001b[0mgen_text\u001b[0m\u001b[0;34m)\u001b[0m\u001b[0;34m)\u001b[0m\u001b[0;34m\u001b[0m\u001b[0;34m\u001b[0m\u001b[0m\n",
      "\u001b[0;32m~/anaconda3/lib/python3.7/site-packages/textgenrnn/utils.py\u001b[0m in \u001b[0;36mtextgenrnn_generate\u001b[0;34m(model, vocab, indices_char, temperature, maxlen, meta_token, word_level, single_text, max_gen_length, interactive, top_n, prefix, synthesize, stop_tokens)\u001b[0m\n\u001b[1;32m     95\u001b[0m             \u001b[0;31m# auto-generate text without user intervention\u001b[0m\u001b[0;34m\u001b[0m\u001b[0;34m\u001b[0m\u001b[0;34m\u001b[0m\u001b[0m\n\u001b[1;32m     96\u001b[0m             next_index = textgenrnn_sample(\n\u001b[0;32m---> 97\u001b[0;31m                 \u001b[0mmodel\u001b[0m\u001b[0;34m.\u001b[0m\u001b[0mpredict\u001b[0m\u001b[0;34m(\u001b[0m\u001b[0mencoded_text\u001b[0m\u001b[0;34m,\u001b[0m \u001b[0mbatch_size\u001b[0m\u001b[0;34m=\u001b[0m\u001b[0;36m1\u001b[0m\u001b[0;34m)\u001b[0m\u001b[0;34m[\u001b[0m\u001b[0;36m0\u001b[0m\u001b[0;34m]\u001b[0m\u001b[0;34m,\u001b[0m\u001b[0;34m\u001b[0m\u001b[0;34m\u001b[0m\u001b[0m\n\u001b[0m\u001b[1;32m     98\u001b[0m                 next_temperature)\n\u001b[1;32m     99\u001b[0m             \u001b[0mnext_char\u001b[0m \u001b[0;34m=\u001b[0m \u001b[0mindices_char\u001b[0m\u001b[0;34m[\u001b[0m\u001b[0mnext_index\u001b[0m\u001b[0;34m]\u001b[0m\u001b[0;34m\u001b[0m\u001b[0;34m\u001b[0m\u001b[0m\n",
      "\u001b[0;32m~/anaconda3/lib/python3.7/site-packages/keras/engine/training.py\u001b[0m in \u001b[0;36mpredict\u001b[0;34m(self, x, batch_size, verbose, steps, callbacks, max_queue_size, workers, use_multiprocessing)\u001b[0m\n\u001b[1;32m   1460\u001b[0m                                             \u001b[0mverbose\u001b[0m\u001b[0;34m=\u001b[0m\u001b[0mverbose\u001b[0m\u001b[0;34m,\u001b[0m\u001b[0;34m\u001b[0m\u001b[0;34m\u001b[0m\u001b[0m\n\u001b[1;32m   1461\u001b[0m                                             \u001b[0msteps\u001b[0m\u001b[0;34m=\u001b[0m\u001b[0msteps\u001b[0m\u001b[0;34m,\u001b[0m\u001b[0;34m\u001b[0m\u001b[0;34m\u001b[0m\u001b[0m\n\u001b[0;32m-> 1462\u001b[0;31m                                             callbacks=callbacks)\n\u001b[0m\u001b[1;32m   1463\u001b[0m \u001b[0;34m\u001b[0m\u001b[0m\n\u001b[1;32m   1464\u001b[0m     def train_on_batch(self, x, y,\n",
      "\u001b[0;32m~/anaconda3/lib/python3.7/site-packages/keras/engine/training_arrays.py\u001b[0m in \u001b[0;36mpredict_loop\u001b[0;34m(model, f, ins, batch_size, verbose, steps, callbacks)\u001b[0m\n\u001b[1;32m    322\u001b[0m             \u001b[0mbatch_logs\u001b[0m \u001b[0;34m=\u001b[0m \u001b[0;34m{\u001b[0m\u001b[0;34m'batch'\u001b[0m\u001b[0;34m:\u001b[0m \u001b[0mbatch_index\u001b[0m\u001b[0;34m,\u001b[0m \u001b[0;34m'size'\u001b[0m\u001b[0;34m:\u001b[0m \u001b[0mlen\u001b[0m\u001b[0;34m(\u001b[0m\u001b[0mbatch_ids\u001b[0m\u001b[0;34m)\u001b[0m\u001b[0;34m}\u001b[0m\u001b[0;34m\u001b[0m\u001b[0;34m\u001b[0m\u001b[0m\n\u001b[1;32m    323\u001b[0m             \u001b[0mcallbacks\u001b[0m\u001b[0;34m.\u001b[0m\u001b[0m_call_batch_hook\u001b[0m\u001b[0;34m(\u001b[0m\u001b[0;34m'predict'\u001b[0m\u001b[0;34m,\u001b[0m \u001b[0;34m'begin'\u001b[0m\u001b[0;34m,\u001b[0m \u001b[0mbatch_index\u001b[0m\u001b[0;34m,\u001b[0m \u001b[0mbatch_logs\u001b[0m\u001b[0;34m)\u001b[0m\u001b[0;34m\u001b[0m\u001b[0;34m\u001b[0m\u001b[0m\n\u001b[0;32m--> 324\u001b[0;31m             \u001b[0mbatch_outs\u001b[0m \u001b[0;34m=\u001b[0m \u001b[0mf\u001b[0m\u001b[0;34m(\u001b[0m\u001b[0mins_batch\u001b[0m\u001b[0;34m)\u001b[0m\u001b[0;34m\u001b[0m\u001b[0;34m\u001b[0m\u001b[0m\n\u001b[0m\u001b[1;32m    325\u001b[0m             \u001b[0mbatch_outs\u001b[0m \u001b[0;34m=\u001b[0m \u001b[0mto_list\u001b[0m\u001b[0;34m(\u001b[0m\u001b[0mbatch_outs\u001b[0m\u001b[0;34m)\u001b[0m\u001b[0;34m\u001b[0m\u001b[0;34m\u001b[0m\u001b[0m\n\u001b[1;32m    326\u001b[0m             \u001b[0;32mif\u001b[0m \u001b[0mbatch_index\u001b[0m \u001b[0;34m==\u001b[0m \u001b[0;36m0\u001b[0m\u001b[0;34m:\u001b[0m\u001b[0;34m\u001b[0m\u001b[0;34m\u001b[0m\u001b[0m\n",
      "\u001b[0;32m~/anaconda3/lib/python3.7/site-packages/tensorflow_core/python/keras/backend.py\u001b[0m in \u001b[0;36m__call__\u001b[0;34m(self, inputs)\u001b[0m\n\u001b[1;32m   3738\u001b[0m         \u001b[0mvalue\u001b[0m \u001b[0;34m=\u001b[0m \u001b[0mmath_ops\u001b[0m\u001b[0;34m.\u001b[0m\u001b[0mcast\u001b[0m\u001b[0;34m(\u001b[0m\u001b[0mvalue\u001b[0m\u001b[0;34m,\u001b[0m \u001b[0mtensor\u001b[0m\u001b[0;34m.\u001b[0m\u001b[0mdtype\u001b[0m\u001b[0;34m)\u001b[0m\u001b[0;34m\u001b[0m\u001b[0;34m\u001b[0m\u001b[0m\n\u001b[1;32m   3739\u001b[0m       \u001b[0mconverted_inputs\u001b[0m\u001b[0;34m.\u001b[0m\u001b[0mappend\u001b[0m\u001b[0;34m(\u001b[0m\u001b[0mvalue\u001b[0m\u001b[0;34m)\u001b[0m\u001b[0;34m\u001b[0m\u001b[0;34m\u001b[0m\u001b[0m\n\u001b[0;32m-> 3740\u001b[0;31m     \u001b[0moutputs\u001b[0m \u001b[0;34m=\u001b[0m \u001b[0mself\u001b[0m\u001b[0;34m.\u001b[0m\u001b[0m_graph_fn\u001b[0m\u001b[0;34m(\u001b[0m\u001b[0;34m*\u001b[0m\u001b[0mconverted_inputs\u001b[0m\u001b[0;34m)\u001b[0m\u001b[0;34m\u001b[0m\u001b[0;34m\u001b[0m\u001b[0m\n\u001b[0m\u001b[1;32m   3741\u001b[0m \u001b[0;34m\u001b[0m\u001b[0m\n\u001b[1;32m   3742\u001b[0m     \u001b[0;31m# EagerTensor.numpy() will often make a copy to ensure memory safety.\u001b[0m\u001b[0;34m\u001b[0m\u001b[0;34m\u001b[0m\u001b[0;34m\u001b[0m\u001b[0m\n",
      "\u001b[0;32m~/anaconda3/lib/python3.7/site-packages/tensorflow_core/python/eager/function.py\u001b[0m in \u001b[0;36m__call__\u001b[0;34m(self, *args, **kwargs)\u001b[0m\n\u001b[1;32m   1079\u001b[0m       \u001b[0mTypeError\u001b[0m\u001b[0;34m:\u001b[0m \u001b[0mFor\u001b[0m \u001b[0minvalid\u001b[0m \u001b[0mpositional\u001b[0m\u001b[0;34m/\u001b[0m\u001b[0mkeyword\u001b[0m \u001b[0margument\u001b[0m \u001b[0mcombinations\u001b[0m\u001b[0;34m.\u001b[0m\u001b[0;34m\u001b[0m\u001b[0;34m\u001b[0m\u001b[0m\n\u001b[1;32m   1080\u001b[0m     \"\"\"\n\u001b[0;32m-> 1081\u001b[0;31m     \u001b[0;32mreturn\u001b[0m \u001b[0mself\u001b[0m\u001b[0;34m.\u001b[0m\u001b[0m_call_impl\u001b[0m\u001b[0;34m(\u001b[0m\u001b[0margs\u001b[0m\u001b[0;34m,\u001b[0m \u001b[0mkwargs\u001b[0m\u001b[0;34m)\u001b[0m\u001b[0;34m\u001b[0m\u001b[0;34m\u001b[0m\u001b[0m\n\u001b[0m\u001b[1;32m   1082\u001b[0m \u001b[0;34m\u001b[0m\u001b[0m\n\u001b[1;32m   1083\u001b[0m   \u001b[0;32mdef\u001b[0m \u001b[0m_call_impl\u001b[0m\u001b[0;34m(\u001b[0m\u001b[0mself\u001b[0m\u001b[0;34m,\u001b[0m \u001b[0margs\u001b[0m\u001b[0;34m,\u001b[0m \u001b[0mkwargs\u001b[0m\u001b[0;34m,\u001b[0m \u001b[0mcancellation_manager\u001b[0m\u001b[0;34m=\u001b[0m\u001b[0;32mNone\u001b[0m\u001b[0;34m)\u001b[0m\u001b[0;34m:\u001b[0m\u001b[0;34m\u001b[0m\u001b[0;34m\u001b[0m\u001b[0m\n",
      "\u001b[0;32m~/anaconda3/lib/python3.7/site-packages/tensorflow_core/python/eager/function.py\u001b[0m in \u001b[0;36m_call_impl\u001b[0;34m(self, args, kwargs, cancellation_manager)\u001b[0m\n\u001b[1;32m   1119\u001b[0m       raise TypeError(\"Keyword arguments {} unknown. Expected {}.\".format(\n\u001b[1;32m   1120\u001b[0m           list(kwargs.keys()), list(self._arg_keywords)))\n\u001b[0;32m-> 1121\u001b[0;31m     \u001b[0;32mreturn\u001b[0m \u001b[0mself\u001b[0m\u001b[0;34m.\u001b[0m\u001b[0m_call_flat\u001b[0m\u001b[0;34m(\u001b[0m\u001b[0margs\u001b[0m\u001b[0;34m,\u001b[0m \u001b[0mself\u001b[0m\u001b[0;34m.\u001b[0m\u001b[0mcaptured_inputs\u001b[0m\u001b[0;34m,\u001b[0m \u001b[0mcancellation_manager\u001b[0m\u001b[0;34m)\u001b[0m\u001b[0;34m\u001b[0m\u001b[0;34m\u001b[0m\u001b[0m\n\u001b[0m\u001b[1;32m   1122\u001b[0m \u001b[0;34m\u001b[0m\u001b[0m\n\u001b[1;32m   1123\u001b[0m   \u001b[0;32mdef\u001b[0m \u001b[0m_filtered_call\u001b[0m\u001b[0;34m(\u001b[0m\u001b[0mself\u001b[0m\u001b[0;34m,\u001b[0m \u001b[0margs\u001b[0m\u001b[0;34m,\u001b[0m \u001b[0mkwargs\u001b[0m\u001b[0;34m)\u001b[0m\u001b[0;34m:\u001b[0m\u001b[0;34m\u001b[0m\u001b[0;34m\u001b[0m\u001b[0m\n",
      "\u001b[0;32m~/anaconda3/lib/python3.7/site-packages/tensorflow_core/python/eager/function.py\u001b[0m in \u001b[0;36m_call_flat\u001b[0;34m(self, args, captured_inputs, cancellation_manager)\u001b[0m\n\u001b[1;32m   1222\u001b[0m     \u001b[0;32mif\u001b[0m \u001b[0mexecuting_eagerly\u001b[0m\u001b[0;34m:\u001b[0m\u001b[0;34m\u001b[0m\u001b[0;34m\u001b[0m\u001b[0m\n\u001b[1;32m   1223\u001b[0m       flat_outputs = forward_function.call(\n\u001b[0;32m-> 1224\u001b[0;31m           ctx, args, cancellation_manager=cancellation_manager)\n\u001b[0m\u001b[1;32m   1225\u001b[0m     \u001b[0;32melse\u001b[0m\u001b[0;34m:\u001b[0m\u001b[0;34m\u001b[0m\u001b[0;34m\u001b[0m\u001b[0m\n\u001b[1;32m   1226\u001b[0m       \u001b[0mgradient_name\u001b[0m \u001b[0;34m=\u001b[0m \u001b[0mself\u001b[0m\u001b[0;34m.\u001b[0m\u001b[0m_delayed_rewrite_functions\u001b[0m\u001b[0;34m.\u001b[0m\u001b[0mregister\u001b[0m\u001b[0;34m(\u001b[0m\u001b[0;34m)\u001b[0m\u001b[0;34m\u001b[0m\u001b[0;34m\u001b[0m\u001b[0m\n",
      "\u001b[0;32m~/anaconda3/lib/python3.7/site-packages/tensorflow_core/python/eager/function.py\u001b[0m in \u001b[0;36mcall\u001b[0;34m(self, ctx, args, cancellation_manager)\u001b[0m\n\u001b[1;32m    509\u001b[0m               \u001b[0minputs\u001b[0m\u001b[0;34m=\u001b[0m\u001b[0margs\u001b[0m\u001b[0;34m,\u001b[0m\u001b[0;34m\u001b[0m\u001b[0;34m\u001b[0m\u001b[0m\n\u001b[1;32m    510\u001b[0m               \u001b[0mattrs\u001b[0m\u001b[0;34m=\u001b[0m\u001b[0;34m(\u001b[0m\u001b[0;34m\"executor_type\"\u001b[0m\u001b[0;34m,\u001b[0m \u001b[0mexecutor_type\u001b[0m\u001b[0;34m,\u001b[0m \u001b[0;34m\"config_proto\"\u001b[0m\u001b[0;34m,\u001b[0m \u001b[0mconfig\u001b[0m\u001b[0;34m)\u001b[0m\u001b[0;34m,\u001b[0m\u001b[0;34m\u001b[0m\u001b[0;34m\u001b[0m\u001b[0m\n\u001b[0;32m--> 511\u001b[0;31m               ctx=ctx)\n\u001b[0m\u001b[1;32m    512\u001b[0m         \u001b[0;32melse\u001b[0m\u001b[0;34m:\u001b[0m\u001b[0;34m\u001b[0m\u001b[0;34m\u001b[0m\u001b[0m\n\u001b[1;32m    513\u001b[0m           outputs = execute.execute_with_cancellation(\n",
      "\u001b[0;32m~/anaconda3/lib/python3.7/site-packages/tensorflow_core/python/eager/execute.py\u001b[0m in \u001b[0;36mquick_execute\u001b[0;34m(op_name, num_outputs, inputs, attrs, ctx, name)\u001b[0m\n\u001b[1;32m     59\u001b[0m     tensors = pywrap_tensorflow.TFE_Py_Execute(ctx._handle, device_name,\n\u001b[1;32m     60\u001b[0m                                                \u001b[0mop_name\u001b[0m\u001b[0;34m,\u001b[0m \u001b[0minputs\u001b[0m\u001b[0;34m,\u001b[0m \u001b[0mattrs\u001b[0m\u001b[0;34m,\u001b[0m\u001b[0;34m\u001b[0m\u001b[0;34m\u001b[0m\u001b[0m\n\u001b[0;32m---> 61\u001b[0;31m                                                num_outputs)\n\u001b[0m\u001b[1;32m     62\u001b[0m   \u001b[0;32mexcept\u001b[0m \u001b[0mcore\u001b[0m\u001b[0;34m.\u001b[0m\u001b[0m_NotOkStatusException\u001b[0m \u001b[0;32mas\u001b[0m \u001b[0me\u001b[0m\u001b[0;34m:\u001b[0m\u001b[0;34m\u001b[0m\u001b[0;34m\u001b[0m\u001b[0m\n\u001b[1;32m     63\u001b[0m     \u001b[0;32mif\u001b[0m \u001b[0mname\u001b[0m \u001b[0;32mis\u001b[0m \u001b[0;32mnot\u001b[0m \u001b[0;32mNone\u001b[0m\u001b[0;34m:\u001b[0m\u001b[0;34m\u001b[0m\u001b[0;34m\u001b[0m\u001b[0m\n",
      "\u001b[0;31mKeyboardInterrupt\u001b[0m: "
     ]
    }
   ],
   "source": [
    "textgen.generate(50, temperature=0.2)"
   ]
  },
  {
   "cell_type": "code",
   "execution_count": null,
   "metadata": {},
   "outputs": [],
   "source": [
    "textgen.generate(50, temperature=0.5)"
   ]
  },
  {
   "cell_type": "code",
   "execution_count": null,
   "metadata": {},
   "outputs": [],
   "source": [
    "textgen.generate(50, temperature=1.0)"
   ]
  }
 ],
 "metadata": {
  "accelerator": "TPU",
  "colab": {
   "name": "SMS.ipynb",
   "provenance": []
  },
  "kernelspec": {
   "display_name": "Python 3",
   "language": "python",
   "name": "python3"
  },
  "language_info": {
   "codemirror_mode": {
    "name": "ipython",
    "version": 3
   },
   "file_extension": ".py",
   "mimetype": "text/x-python",
   "name": "python",
   "nbconvert_exporter": "python",
   "pygments_lexer": "ipython3",
   "version": "3.7.3"
  }
 },
 "nbformat": 4,
 "nbformat_minor": 1
}
